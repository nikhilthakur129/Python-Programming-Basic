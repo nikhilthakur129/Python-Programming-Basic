{
 "cells": [
  {
   "cell_type": "code",
   "execution_count": 149,
   "metadata": {},
   "outputs": [],
   "source": [
    "#question 1\n",
    "\n",
    "def gcd(num1,num2):\n",
    "    #if num1>num2:\n",
    "        #mn = num1\n",
    "    #else:\n",
    "        #mn = num2\n",
    "    mn = min(num1,num2)\n",
    "    for i in range(1,mn+1):\n",
    "        if num1%i==0 and num2%i==0:\n",
    "            hcf = i\n",
    "        \n",
    "    return hcf\n",
    "         "
   ]
  },
  {
   "cell_type": "code",
   "execution_count": 154,
   "metadata": {},
   "outputs": [
    {
     "data": {
      "text/plain": [
       "1"
      ]
     },
     "execution_count": 154,
     "metadata": {},
     "output_type": "execute_result"
    }
   ],
   "source": [
    "gcd(36,7)"
   ]
  },
  {
   "cell_type": "code",
   "execution_count": 151,
   "metadata": {},
   "outputs": [],
   "source": [
    "#question 2\n",
    "def lcm(num1,num2):\n",
    "    prod = num1*num2\n",
    "    h = gcd(num1,num2)\n",
    "    l = prod/h\n",
    "    return l"
   ]
  },
  {
   "cell_type": "code",
   "execution_count": 155,
   "metadata": {},
   "outputs": [
    {
     "data": {
      "text/plain": [
       "38.0"
      ]
     },
     "execution_count": 155,
     "metadata": {},
     "output_type": "execute_result"
    }
   ],
   "source": [
    "lcm(19,2)"
   ]
  },
  {
   "cell_type": "code",
   "execution_count": 160,
   "metadata": {},
   "outputs": [
    {
     "name": "stdout",
     "output_type": "stream",
     "text": [
      "Octal =  0o12\n",
      "binary =  0b1010\n",
      "Hexa =  0xa\n"
     ]
    }
   ],
   "source": [
    "#question 3\n",
    "\n",
    "num = 10\n",
    "\n",
    "print(\"Octal = \",oct(num))\n",
    "\n",
    "print(\"binary = \", bin(num))\n",
    "\n",
    "print(\"Hexa = \", hex(num))"
   ]
  },
  {
   "cell_type": "code",
   "execution_count": 169,
   "metadata": {},
   "outputs": [],
   "source": [
    "#question 4\n",
    "def asci(character):\n",
    "    return ord(character)"
   ]
  },
  {
   "cell_type": "code",
   "execution_count": 172,
   "metadata": {},
   "outputs": [
    {
     "data": {
      "text/plain": [
       "110"
      ]
     },
     "execution_count": 172,
     "metadata": {},
     "output_type": "execute_result"
    }
   ],
   "source": [
    "asci(\"n\")"
   ]
  },
  {
   "cell_type": "code",
   "execution_count": 174,
   "metadata": {},
   "outputs": [],
   "source": [
    "#question 5\n",
    "\n",
    "def calc(num1,num2,operation):\n",
    "    if operation == \"add\":\n",
    "        print(num1+num2)\n",
    "    elif operation == \"subs\":\n",
    "        if num1>num2:\n",
    "            print(num1-num2)\n",
    "        else:\n",
    "            print(num2-num1)\n",
    "    elif operation == \"multiply\":\n",
    "        print(num1*num2)\n",
    "    elif operation == \"div\":\n",
    "        print(num1/num2)\n",
    "    return"
   ]
  },
  {
   "cell_type": "code",
   "execution_count": 176,
   "metadata": {},
   "outputs": [
    {
     "name": "stdout",
     "output_type": "stream",
     "text": [
      "3\n"
     ]
    }
   ],
   "source": [
    "calc(1,2,\"add\")"
   ]
  },
  {
   "cell_type": "code",
   "execution_count": null,
   "metadata": {},
   "outputs": [],
   "source": []
  }
 ],
 "metadata": {
  "kernelspec": {
   "display_name": "Python 3",
   "language": "python",
   "name": "python3"
  },
  "language_info": {
   "codemirror_mode": {
    "name": "ipython",
    "version": 3
   },
   "file_extension": ".py",
   "mimetype": "text/x-python",
   "name": "python",
   "nbconvert_exporter": "python",
   "pygments_lexer": "ipython3",
   "version": "3.8.3"
  }
 },
 "nbformat": 4,
 "nbformat_minor": 4
}
